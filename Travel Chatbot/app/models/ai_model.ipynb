{
 "cells": [
  {
   "cell_type": "code",
   "execution_count": 2,
   "id": "5b86ff56-48e6-4137-8420-4e2469460f39",
   "metadata": {},
   "outputs": [
    {
     "name": "stderr",
     "output_type": "stream",
     "text": [
      "c:\\Users\\roham\\AppData\\Local\\Programs\\Python\\Python312\\Lib\\site-packages\\tqdm\\auto.py:21: TqdmWarning: IProgress not found. Please update jupyter and ipywidgets. See https://ipywidgets.readthedocs.io/en/stable/user_install.html\n",
      "  from .autonotebook import tqdm as notebook_tqdm\n"
     ]
    }
   ],
   "source": [
    "from transformers import pipeline\n",
    "\n",
    "class IntentClassifier:\n",
    "    def __init__(self, model_name=\"bert-base-uncased\"):\n",
    "        self.pipeline = pipeline(\"text-classification\", model=model_name, return_all_scores=True)\n",
    "        self.intents = [\"find_flights\", \"list_activities\", \"budget_suggestions\"]\n",
    "\n",
    "    def classify_intent(self, user_input):\n",
    "        predictions = self.pipeline(user_input)\n",
    "        intent_scores = {pred['label']: pred['score'] for pred in predictions[0]}\n",
    "        best_intent = max(intent_scores, key=intent_scores.get)\n",
    "        return best_intent, intent_scores\n"
   ]
  },
  {
   "cell_type": "code",
   "execution_count": 3,
   "id": "24640550-657e-40d7-a1b1-0f6af3605cde",
   "metadata": {},
   "outputs": [],
   "source": [
    "from transformers import AutoModelForCausalLM, AutoTokenizer\n",
    "\n",
    "class ResponseGenerator:\n",
    "    def __init__(self, model_name=\"microsoft/DialoGPT-medium\"):\n",
    "        self.tokenizer = AutoTokenizer.from_pretrained(model_name)\n",
    "        self.model = AutoModelForCausalLM.from_pretrained(model_name)\n",
    "\n",
    "    def generate_response(self, user_input):\n",
    "        inputs = self.tokenizer.encode(user_input, return_tensors=\"pt\")\n",
    "        reply_ids = self.model.generate(inputs, max_length=50, pad_token_id=self.tokenizer.eos_token_id)\n",
    "        return self.tokenizer.decode(reply_ids[0], skip_special_tokens=True)\n"
   ]
  },
  {
   "cell_type": "code",
   "execution_count": null,
   "id": "cd9edca1-37ee-46ee-89c8-53fc9a29892f",
   "metadata": {},
   "outputs": [],
   "source": []
  }
 ],
 "metadata": {
  "kernelspec": {
   "display_name": "Python 3",
   "language": "python",
   "name": "python3"
  },
  "language_info": {
   "codemirror_mode": {
    "name": "ipython",
    "version": 3
   },
   "file_extension": ".py",
   "mimetype": "text/x-python",
   "name": "python",
   "nbconvert_exporter": "python",
   "pygments_lexer": "ipython3",
   "version": "3.12.8"
  }
 },
 "nbformat": 4,
 "nbformat_minor": 5
}
