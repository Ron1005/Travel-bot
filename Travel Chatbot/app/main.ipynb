{
 "cells": [
  {
   "cell_type": "code",
   "execution_count": 1,
   "id": "6cf71269",
   "metadata": {},
   "outputs": [
    {
     "name": "stderr",
     "output_type": "stream",
     "text": [
      "c:\\Users\\roham\\AppData\\Local\\Programs\\Python\\Python312\\Lib\\site-packages\\tqdm\\auto.py:21: TqdmWarning: IProgress not found. Please update jupyter and ipywidgets. See https://ipywidgets.readthedocs.io/en/stable/user_install.html\n",
      "  from .autonotebook import tqdm as notebook_tqdm\n"
     ]
    }
   ],
   "source": [
    "from transformers import pipeline\n",
    "\n",
    "class IntentClassifier:\n",
    "    def __init__(self, model_name=\"bert-base-uncased\"):\n",
    "        self.pipeline = pipeline(\"text-classification\", model=model_name, return_all_scores=True)\n",
    "        # Map model's generic labels to intent names\n",
    "        self.label_to_intent = {\n",
    "            \"LABEL_0\": \"find_flights\",\n",
    "            \"LABEL_1\": \"list_activities\",\n",
    "            \"LABEL_2\": \"budget_suggestions\"\n",
    "        }\n",
    "\n",
    "    def classify_intent(self, user_input):\n",
    "        predictions = self.pipeline(user_input)\n",
    "        print(\"Predictions:\", predictions)  # Debugging output\n",
    "        \n",
    "        # Extract scores and map to intents\n",
    "        intent_scores = {self.label_to_intent.get(pred[\"label\"], \"unknown\"): pred[\"score\"] for pred in predictions[0]}\n",
    "        best_intent = max(intent_scores, key=intent_scores.get)\n",
    "        \n",
    "        return best_intent, intent_scores\n"
   ]
  },
  {
   "cell_type": "code",
   "execution_count": 2,
   "id": "66761c54",
   "metadata": {},
   "outputs": [],
   "source": [
    "from transformers import AutoModelForCausalLM, AutoTokenizer\n",
    "\n",
    "class ResponseGenerator:\n",
    "    def __init__(self, model_name=\"microsoft/DialoGPT-medium\"):\n",
    "        self.tokenizer = AutoTokenizer.from_pretrained(model_name)\n",
    "        self.model = AutoModelForCausalLM.from_pretrained(model_name)\n",
    "\n",
    "    def generate_response(self, user_input):\n",
    "        inputs = self.tokenizer.encode(user_input, return_tensors=\"pt\")\n",
    "        reply_ids = self.model.generate(inputs, max_length=50, pad_token_id=self.tokenizer.eos_token_id)\n",
    "        return self.tokenizer.decode(reply_ids[0], skip_special_tokens=True)\n"
   ]
  },
  {
   "cell_type": "code",
   "execution_count": 3,
   "id": "a897b966",
   "metadata": {},
   "outputs": [],
   "source": [
    "import requests\n",
    "import pandas as pd\n",
    "\n",
    "def generate_bearer_token():\n",
    "\n",
    "    url = \"https://test.api.amadeus.com/v1/security/oauth2/token\"\n",
    "\n",
    "    payload = 'client_id=&client_secret=&grant_type=client_credentials'\n",
    "    headers = {\n",
    "    'Content-Type': 'application/x-www-form-urlencoded'\n",
    "    }\n",
    "\n",
    "    response = requests.request(\"POST\", url, headers=headers, data=payload)\n",
    "    print(response.json())\n",
    "    return response.json()\n",
    "\n",
    "\n",
    "def fetch_flights(destination, dates):\n",
    "    bearer_token = generate_bearer_token()\n",
    "    url = \"https://test.api.amadeus.com/v2/shopping/flight-offers?originLocationCode=SYD&destinationLocationCode=BKK&departureDate=2024-12-24&adults=2&max=5\"\n",
    "\n",
    "    payload = {}\n",
    "    headers = {\n",
    "    'Authorization': 'Bearer '\n",
    "    }\n",
    "\n",
    "    response = requests.request(\"GET\", url, headers=headers, data=payload)\n",
    "\n",
    "    #print(response.text)\n",
    "\n",
    "    # # Example function to fetch flight data\n",
    "    # api_url = f\"https://api.skyscanner.net/...&destination={destination}&dates={dates}\"\n",
    "    # response = requests.get(api_url)\n",
    "    return response.json()\n",
    "\n",
    "def fetch_activities(destination):\n",
    "    # Example function to fetch activities\n",
    "    api_url = f\"https://maps.googleapis.com/maps/api/place/textsearch/json?query=activities+in+{destination}\"\n",
    "    response = requests.get(api_url)\n",
    "    return response.json()\n",
    "\n",
    "def generate_itinerary(user_input):\n",
    "    # Parse user input\n",
    "    destination = user_input.get('destination')\n",
    "    dates = user_input.get('dates')\n",
    "    preferences = user_input.get('preferences', [])\n",
    "    \n",
    "    # Fetch data\n",
    "    flights = fetch_flights(destination, dates)\n",
    "    activities = fetch_activities(destination)\n",
    "    \n",
    "    # Create itinerary (simplified)\n",
    "    itinerary = {\n",
    "        \"destination\": destination,\n",
    "        \"dates\": dates,\n",
    "        \"flights\": flights.get('results', []),\n",
    "        \"activities\": [act['name'] for act in activities.get('results', [])]\n",
    "    }\n",
    "    return itinerary\n"
   ]
  },
  {
   "cell_type": "code",
   "execution_count": null,
   "id": "ff4dd466-133e-477f-9673-cc2edbd568e4",
   "metadata": {},
   "outputs": [
    {
     "name": "stderr",
     "output_type": "stream",
     "text": [
      "Some weights of BertForSequenceClassification were not initialized from the model checkpoint at bert-base-uncased and are newly initialized: ['classifier.bias', 'classifier.weight']\n",
      "You should probably TRAIN this model on a down-stream task to be able to use it for predictions and inference.\n",
      "Device set to use cpu\n",
      "c:\\Users\\roham\\AppData\\Local\\Programs\\Python\\Python312\\Lib\\site-packages\\transformers\\pipelines\\text_classification.py:106: UserWarning: `return_all_scores` is now deprecated,  if want a similar functionality use `top_k=None` instead of `return_all_scores=True` or `top_k=1` instead of `return_all_scores=False`.\n",
      "  warnings.warn(\n"
     ]
    },
    {
     "name": "stdout",
     "output_type": "stream",
     "text": [
      " * Serving Flask app '__main__'\n",
      " * Debug mode: on\n"
     ]
    },
    {
     "name": "stderr",
     "output_type": "stream",
     "text": [
      "WARNING: This is a development server. Do not use it in a production deployment. Use a production WSGI server instead.\n",
      " * Running on http://127.0.0.1:5000\n",
      "Press CTRL+C to quit\n",
      "127.0.0.1 - - [24/Dec/2024 05:49:17] \"POST /chat HTTP/1.1\" 200 -\n"
     ]
    },
    {
     "name": "stdout",
     "output_type": "stream",
     "text": [
      "Predictions: [[{'label': 'LABEL_0', 'score': 0.4675496220588684}, {'label': 'LABEL_1', 'score': 0.5324503779411316}]]\n",
      "list_activities\n"
     ]
    },
    {
     "name": "stderr",
     "output_type": "stream",
     "text": [
      "127.0.0.1 - - [24/Dec/2024 05:49:27] \"POST /chat HTTP/1.1\" 200 -\n"
     ]
    },
    {
     "name": "stdout",
     "output_type": "stream",
     "text": [
      "Predictions: [[{'label': 'LABEL_0', 'score': 0.44853541254997253}, {'label': 'LABEL_1', 'score': 0.5514646172523499}]]\n",
      "list_activities\n"
     ]
    },
    {
     "name": "stderr",
     "output_type": "stream",
     "text": [
      "127.0.0.1 - - [24/Dec/2024 05:49:29] \"POST /chat HTTP/1.1\" 200 -\n"
     ]
    },
    {
     "name": "stdout",
     "output_type": "stream",
     "text": [
      "Predictions: [[{'label': 'LABEL_0', 'score': 0.44853541254997253}, {'label': 'LABEL_1', 'score': 0.5514646172523499}]]\n",
      "list_activities\n",
      "Predictions: [[{'label': 'LABEL_0', 'score': 0.44853541254997253}, {'label': 'LABEL_1', 'score': 0.5514646172523499}]]\n",
      "list_activities\n"
     ]
    },
    {
     "name": "stderr",
     "output_type": "stream",
     "text": [
      "127.0.0.1 - - [24/Dec/2024 05:49:30] \"POST /chat HTTP/1.1\" 200 -\n"
     ]
    },
    {
     "name": "stdout",
     "output_type": "stream",
     "text": [
      "Predictions: [[{'label': 'LABEL_0', 'score': 0.44853541254997253}, {'label': 'LABEL_1', 'score': 0.5514646172523499}]]\n",
      "list_activities\n"
     ]
    },
    {
     "name": "stderr",
     "output_type": "stream",
     "text": [
      "127.0.0.1 - - [24/Dec/2024 05:49:33] \"POST /chat HTTP/1.1\" 200 -\n"
     ]
    },
    {
     "name": "stdout",
     "output_type": "stream",
     "text": [
      "Predictions: [[{'label': 'LABEL_0', 'score': 0.44853541254997253}, {'label': 'LABEL_1', 'score': 0.5514646172523499}]]\n",
      "list_activities\n"
     ]
    },
    {
     "name": "stderr",
     "output_type": "stream",
     "text": [
      "127.0.0.1 - - [24/Dec/2024 05:49:35] \"POST /chat HTTP/1.1\" 200 -\n",
      "127.0.0.1 - - [24/Dec/2024 05:49:40] \"POST /chat HTTP/1.1\" 200 -\n"
     ]
    },
    {
     "name": "stdout",
     "output_type": "stream",
     "text": [
      "Predictions: [[{'label': 'LABEL_0', 'score': 0.47550514340400696}, {'label': 'LABEL_1', 'score': 0.5244948267936707}]]\n",
      "list_activities\n"
     ]
    }
   ],
   "source": [
    "from flask import Flask, render_template, request, jsonify\n",
    "app = Flask(__name__)\n",
    "\n",
    "# Load AI models\n",
    "intent_classifier = IntentClassifier()\n",
    "response_generator = ResponseGenerator()\n",
    "\n",
    "@app.route('/')\n",
    "def index():\n",
    "    return render_template('index.html')  # Serve the frontend UI\n",
    "\n",
    "@app.route('/chat', methods=['POST'])\n",
    "def chat():\n",
    "    user_message = request.json.get('message', '')\n",
    "    \n",
    "    # Classify intent\n",
    "    intent, scores = intent_classifier.classify_intent(user_message)\n",
    "    print(intent)\n",
    "    # Handle intent\n",
    "    if intent == \"find_flights\":\n",
    "        destination = \"New York\"  # Extract destination from NLP or user input\n",
    "        dates = \"2024-12-25\"  # Extract dates\n",
    "        flights = fetch_flights(destination, dates)\n",
    "        response = f\"Here are some flights to {destination} on {dates}: {flights}\"\n",
    "        # pass\n",
    "        # response = response_generator.generate_response(user_message)\n",
    "    # elif intent == \"list_activities\":\n",
    "    #     destination = \"New York\"  # Extract from NLP\n",
    "    #     activities = fetch_activities(destination)\n",
    "    #     response = f\"Here are some activities in {destination}: {activities}\"\n",
    "    else:\n",
    "        # Generate conversational response\n",
    "        response = response_generator.generate_response(user_message)\n",
    "        print(\"Check\")\n",
    "\n",
    "    return jsonify({'response': response})\n",
    "\n",
    "if __name__ == '__main__':\n",
    "   try:\n",
    "        app.run(debug=True,use_reloader=False)\n",
    "   except Exception as e:\n",
    "        print(f\"Error occurred: {e}\")\n"
   ]
  }
 ],
 "metadata": {
  "kernelspec": {
   "display_name": "Python 3",
   "language": "python",
   "name": "python3"
  },
  "language_info": {
   "codemirror_mode": {
    "name": "ipython",
    "version": 3
   },
   "file_extension": ".py",
   "mimetype": "text/x-python",
   "name": "python",
   "nbconvert_exporter": "python",
   "pygments_lexer": "ipython3",
   "version": "3.12.8"
  }
 },
 "nbformat": 4,
 "nbformat_minor": 5
}
